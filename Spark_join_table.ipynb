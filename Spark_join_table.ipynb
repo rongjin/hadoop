{
 "cells": [
  {
   "cell_type": "markdown",
   "metadata": {},
   "source": [
    "## Spark for join table"
   ]
  },
  {
   "cell_type": "markdown",
   "metadata": {},
   "source": [
    "We have two types of tables. \"foodcalorie*.txt\" stores pairs of (food,calorie).\n",
    "\n",
    "chicken,108<br />\n",
    "beef,140<br />\n",
    "chicken,127<br />\n",
    "shrimp,65<br />\n",
    "shrimp,89<br />\n",
    "pork,98<br />\n",
    "turkey,45<br />\n",
    "asparagus,30<br />\n",
    "asparagus,56<br />\n",
    "broccoli,20<br />\n",
    "broccoli,18<br />\n",
    "carrot,22<br />\n",
    "...<br />\n",
    "\n",
    "\"foodtype*.txt\" stores pairs of (food,type).\n",
    "\n",
    "chicken,meat<br />\n",
    "beef,meat<br />\n",
    "egg,meat<br />\n",
    "turkey,meat<br />\n",
    "asparagus,vegetable<br />\n",
    "broccoli,vegetable<br />\n",
    "carrot,vegetable<br />\n",
    "...<br />\n",
    "\n"
   ]
  },
  {
   "cell_type": "code",
   "execution_count": null,
   "metadata": {
    "collapsed": true
   },
   "outputs": [],
   "source": [
    "#spark_join.py\n",
    "#!/usr/bin/env python\n",
    "from pyspark import SparkContext\n",
    "sc = SparkContext()\n",
    "food_calorie_file = sc.textFile(\"foodcalorie*.txt\")\n",
    "food_calorie_file.take(2)\n",
    "food_type_file = sc.textFile(\"foodtype*.txt\")\n",
    "\n",
    "def split_food_calorie(line):\n",
    "\tline = line.strip().split(\",\")\n",
    "\tfood,calorie = line[0],int(line[1])\n",
    "\treturn(food,calorie)\n",
    "food_calorie = food_calorie_file.map(split_food_calorie)\n",
    "\n",
    "def split_food_type(line):\n",
    "\tline = line.strip().split(\",\")\n",
    "\tfood,foodtype = line[0],line[1]\n",
    "\treturn(food,foodtype)\n",
    "food_type = show_type_file.map(split_food_type)\n",
    "\n",
    "joined_dataset = food_calorie.join(food_type)\n",
    "\n",
    "def extract_type_colorie(food_calorie_type):\n",
    "\tfood_type = food_calorie_type[1][1]\n",
    "\tcalorie = food_calorie_type[1][0]\n",
    "\treturn (food_type,calorie)\n",
    "type_calorie = joined_dataset.map(extract_type_colorie)\n",
    "\n",
    "def sum_counts(a,b):\n",
    "\treturn a+b\n",
    "result = type_calorie.reduceByKey(sum_counts)\n",
    "print(result.collect())\n"
   ]
  },
  {
   "cell_type": "markdown",
   "metadata": {},
   "source": [
    "To run:\n",
    "    \n",
    " sh /usr/local/spark/bin/spark-submit spark_join.py"
   ]
  },
  {
   "cell_type": "code",
   "execution_count": 1,
   "metadata": {
    "collapsed": false
   },
   "outputs": [
    {
     "data": {
      "text/plain": [
       "[(u'vegetable', 316), (u'meat', 890)]"
      ]
     },
     "execution_count": 1,
     "metadata": {},
     "output_type": "execute_result"
    }
   ],
   "source": [
    "[(u'vegetable', 316), (u'meat', 890)]"
   ]
  },
  {
   "cell_type": "code",
   "execution_count": null,
   "metadata": {
    "collapsed": true
   },
   "outputs": [],
   "source": []
  }
 ],
 "metadata": {
  "kernelspec": {
   "display_name": "Python 2",
   "language": "python",
   "name": "python2"
  },
  "language_info": {
   "codemirror_mode": {
    "name": "ipython",
    "version": 2
   },
   "file_extension": ".py",
   "mimetype": "text/x-python",
   "name": "python",
   "nbconvert_exporter": "python",
   "pygments_lexer": "ipython2",
   "version": "2.7.11"
  }
 },
 "nbformat": 4,
 "nbformat_minor": 0
}
