{
 "cells": [
  {
   "cell_type": "markdown",
   "metadata": {},
   "source": [
    "## This is a MapReduce code for join two tables"
   ]
  },
  {
   "cell_type": "markdown",
   "metadata": {},
   "source": [
    "We have two types of tables. \"foodcalorie*.txt\" stores pairs of (food,calorie).\n",
    "\n",
    "chicken,108<br />\n",
    "beef,140<br />\n",
    "chicken,127<br />\n",
    "shrimp,65<br />\n",
    "shrimp,89<br />\n",
    "pork,98<br />\n",
    "turkey,45<br />\n",
    "asparagus,30<br />\n",
    "asparagus,56<br />\n",
    "broccoli,20<br />\n",
    "broccoli,18<br />\n",
    "carrot,22<br />\n",
    "...<br />\n",
    "\n",
    "\"foodtype*.txt\" stores pairs of (food,type).\n",
    "\n",
    "chicken,meat<br />\n",
    "beef,meat<br />\n",
    "egg,meat<br />\n",
    "turkey,meat<br />\n",
    "asparagus,vegetable<br />\n",
    "broccoli,vegetable<br />\n",
    "carrot,vegetable<br />\n",
    "...<br />\n",
    "\n",
    "We want to join two types of tables and get <food, {calorie,type}> in each row.\n"
   ]
  },
  {
   "cell_type": "code",
   "execution_count": 8,
   "metadata": {
    "collapsed": true
   },
   "outputs": [],
   "source": [
    "#join1_mapper.py\n",
    "# the mapper use food as key. Values can be calorie or type.\n",
    "#!/usr/bin/env python\n",
    "import sys\n",
    "for line in sys.stdin:\n",
    "\tline = line.strip()\n",
    "\tkey_value = line.split(\",\")\n",
    "\tif(len(key_value)==1):\n",
    "\t\tcontinue\n",
    "\t\n",
    "\tif key_value[1].isdigit():\n",
    "\t\tfood = key_value[0]\n",
    "\t\tcalorie = key_value[1]\n",
    "\t\tprint('%s\\t%s' % (food,calorie))\n",
    "\telse:\n",
    "\t\tfood = key_value[0]\n",
    "\t\ttype = key_value[1]\n",
    "\t\tprint('%s\\t%s' % (food,type))"
   ]
  },
  {
   "cell_type": "code",
   "execution_count": 10,
   "metadata": {
    "collapsed": false
   },
   "outputs": [],
   "source": [
    "#join1_reducer.py\n",
    "# the reducer generate <food, {calorie, type}>\n",
    "#!/usr/bin/env python\n",
    "import sys\n",
    "\n",
    "prev_word  = \"\"   #initialize previous word  to blank string\n",
    "calorie_to_output    = [] #an empty list to hold calories for current food\n",
    "type_to_output = \"\"\n",
    "curr_word = \"\"\n",
    "for line in sys.stdin:\n",
    "\tline       = line.strip()   \n",
    "\tkey_value  = line.split('\\t')\n",
    "\tcurr_word  = key_value[0]    \n",
    "\tvalue_in   = key_value[1]  \n",
    "\tif curr_word != prev_word:\n",
    "\t\tif prev_word!=\"\":\n",
    "\t\t\tfor i in range(len(calorie_to_output)):\n",
    "\t\t\t\tprint('{0}\\t{1} {2}'.format(prev_word,calorie_to_output[i],type_to_output))\n",
    "\t\t\tcalorie_to_output   =[]\n",
    "\t\t\ttype_to_output = \"\"\n",
    "\t\t\tprev_word = curr_word  #set up previous word for the next set of input lines\n",
    "\tif (value_in.isdigit()):\n",
    "\t\tcalorie_to_output.append(value_in)\n",
    "\telse:\n",
    "\t\ttype_to_output = value_in  #if the value field was just the total count then its\n",
    "if curr_word == prev_word and prev_word!=\"\":\n",
    "\tfor i in range(len(calorie_to_output)):\n",
    "\t\tprint('{0}\\t{1} {2}'.format(prev_word,calorie_to_output[i],type_to_output))\n",
    "\n"
   ]
  },
  {
   "cell_type": "markdown",
   "metadata": {},
   "source": [
    "## To debug: \n",
    "\n",
    "cat food*.txt | python join1_mapper.py | sort | python join1_reducer.py"
   ]
  },
  {
   "cell_type": "markdown",
   "metadata": {},
   "source": [
    "## To run with hadoop on cloudera:\n",
    "    \n",
    "hadoop jar /usr/lib/hadoop-mapreduce/hadoop-streaming.jar \\<br />\n",
    "   -input /user/cloudera/input \\<br />\n",
    "   -output /user/cloudera/output_new \\<br />\n",
    "   -mapper /home/cloudera/join1_mapper.py \\<br />\n",
    "   -reducer /home/cloudera/join1_reducer.py<br />"
   ]
  },
  {
   "cell_type": "markdown",
   "metadata": {
    "collapsed": true
   },
   "source": [
    "## get result:\n",
    "\n",
    "asparagus\t30 vegetable<br />\n",
    "asparagus\t56 vegetable<br />\n",
    "beef\t140 meat<br />\n",
    "broccoli\t18 vegetable<br />\n",
    "broccoli\t20 vegetable<br />\n",
    "carrot\t22 vegetable<br />\n",
    "carrot\t35 vegetable<br />\n",
    "cauliflower\t36 vegetable<br />\n",
    "chicken\t108 meat<br />\n",
    "chicken\t127 meat<br />\n",
    "cucumber\t29 vegetable<br />\n",
    "egg\t49 meat<br />\n",
    "fish\t70 meat<br />\n",
    "fish\t99 meat<br />\n",
    "onion\t19 vegetable<br />\n",
    "onion\t19 vegetable<br />\n",
    "pork\t98 meat<br />\n",
    "shrimp\t65 meat<br />\n",
    "shrimp\t89 meat<br />\n",
    "squash\t32 vegetable<br />\n",
    "turkey\t45 meat<br />"
   ]
  },
  {
   "cell_type": "code",
   "execution_count": null,
   "metadata": {
    "collapsed": true
   },
   "outputs": [],
   "source": []
  }
 ],
 "metadata": {
  "kernelspec": {
   "display_name": "Python 2",
   "language": "python",
   "name": "python2"
  },
  "language_info": {
   "codemirror_mode": {
    "name": "ipython",
    "version": 2
   },
   "file_extension": ".py",
   "mimetype": "text/x-python",
   "name": "python",
   "nbconvert_exporter": "python",
   "pygments_lexer": "ipython2",
   "version": "2.7.11"
  }
 },
 "nbformat": 4,
 "nbformat_minor": 0
}
